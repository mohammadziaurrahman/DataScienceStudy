{
 "cells": [
  {
   "cell_type": "markdown",
   "id": "5ff5c9db-de9d-4b2e-8fda-a605003653b0",
   "metadata": {},
   "source": [
    "# Data Science Tools and Ecosystem"
   ]
  },
  {
   "cell_type": "markdown",
   "id": "fad0c2bb-8ae1-4570-966f-1df9a5d26f9f",
   "metadata": {},
   "source": [
    "# In this notebook, Data Science Tools and Ecosystem are summarized."
   ]
  },
  {
   "cell_type": "markdown",
   "id": "bcc65c2c-0db2-4260-9b94-964f39ec705c",
   "metadata": {},
   "source": [
    "# **Objectives:**\n",
    "- List popular languages for Data Science.\n",
    "- List common libraries used by Data Scientists.\n",
    "- List some open-source tools for Data Science."
   ]
  },
  {
   "cell_type": "markdown",
   "id": "6f853412-a68e-4de9-aa91-e632ebc3b0b5",
   "metadata": {},
   "source": [
    "# Some of the popular languages that Data Scientists use are:\n",
    "1. Python.\n",
    "2. R.\n",
    "3. SQL.\n",
    "4. Scala.\n",
    "5. Java.\n",
    "6. C++.\n",
    "7. Julia."
   ]
  },
  {
   "cell_type": "markdown",
   "id": "a0494282-dcf7-4646-8d01-3c5de62550e5",
   "metadata": {},
   "source": [
    "# Some of the commonly used libraries used by Data Scientists include:\n",
    "1. Pandas (Scientific Computing).\n",
    "2. NumPy (Scientific Computing).\n",
    "3. Matplotlib (Visualization).\n",
    "4. Seaborn (Visualization).\n",
    "5. Scikit-learn (Machine Learning).\n",
    "6. Keras (Deep Learning).\n",
    "7. TensorFlow (Deep Learning)."
   ]
  },
  {
   "cell_type": "markdown",
   "id": "b5d138ee-faf8-4417-88e7-a666dd83466a",
   "metadata": {},
   "source": [
    "#\n",
    "|Data Science Tools|\n",
    "|------------------|\n",
    "|MySQL|\n",
    "|Apache Kafka|\n",
    "|Pixie Dust|"
   ]
  },
  {
   "cell_type": "markdown",
   "id": "3e06a2fc-4db2-435e-bdee-1a80b0c4e52f",
   "metadata": {},
   "source": [
    "### Below are a few examples of evaluating arithmetic expressions in Python"
   ]
  },
  {
   "cell_type": "code",
   "execution_count": 2,
   "id": "bdc152e2-a203-4307-a6bf-04f44e640cf5",
   "metadata": {},
   "outputs": [
    {
     "data": {
      "text/plain": [
       "17"
      ]
     },
     "execution_count": 2,
     "metadata": {},
     "output_type": "execute_result"
    }
   ],
   "source": [
    "# This a simple arithmetic expression to mutiply then add integers.\n",
    "(3*4)+5"
   ]
  },
  {
   "cell_type": "code",
   "execution_count": 6,
   "id": "52cc2a46-f51e-4bfe-9957-05e67e01fda7",
   "metadata": {},
   "outputs": [
    {
     "name": "stdout",
     "output_type": "stream",
     "text": [
      "3.3333333333333335\n"
     ]
    }
   ],
   "source": [
    "# This will convert 200 minutes to hours by diving by 60\n",
    "minutes = 200\n",
    "hour = minutes/60\n",
    "print(hour)"
   ]
  },
  {
   "cell_type": "markdown",
   "id": "cd4c4aed-a4e6-4ee1-be1d-bebff10a8046",
   "metadata": {},
   "source": [
    "## Author\n",
    "Mohammad Ziaur Rahman"
   ]
  },
  {
   "cell_type": "code",
   "execution_count": null,
   "id": "6a6c2551-a9b7-4e86-8270-f4e715d6e593",
   "metadata": {},
   "outputs": [],
   "source": []
  }
 ],
 "metadata": {
  "kernelspec": {
   "display_name": "Python 3 (ipykernel)",
   "language": "python",
   "name": "python3"
  },
  "language_info": {
   "codemirror_mode": {
    "name": "ipython",
    "version": 3
   },
   "file_extension": ".py",
   "mimetype": "text/x-python",
   "name": "python",
   "nbconvert_exporter": "python",
   "pygments_lexer": "ipython3",
   "version": "3.12.4"
  }
 },
 "nbformat": 4,
 "nbformat_minor": 5
}
